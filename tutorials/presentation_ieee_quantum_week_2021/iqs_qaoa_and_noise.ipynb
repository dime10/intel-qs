{
 "cells": [
  {
   "cell_type": "markdown",
   "metadata": {
    "hidePrompt": true,
    "slideshow": {
     "slide_type": "subslide"
    }
   },
   "source": [
    "# Simulation of QAOA circuits with depolarizing noise\n",
    "\n",
    "----\n",
    "## Gian Giacomo Guerreschi, Intel Labs\n",
    "----\n",
    "\n",
    "Auxiliary material presented at the workshop on **Advanced Simulations of Quantum Computations**:  \n",
    "https://events.cels.anl.gov/event/167/overview\n",
    "\n",
    "Virtual event, 2021/10/17-18"
   ]
  },
  {
   "cell_type": "markdown",
   "metadata": {
    "hidePrompt": true,
    "slideshow": {
     "slide_type": "slide"
    }
   },
   "source": [
    "# Intel Quantum Simulator (IQS)\n",
    "----"
   ]
  },
  {
   "cell_type": "markdown",
   "metadata": {
    "slideshow": {
     "slide_type": "subslide"
    }
   },
   "source": [
    "IQS is a massively parallel simulator of quantum circuits.\n",
    "* An $n$-qubit state is represented as a complex vector of $2^n$ components. The memory requirement therefore grows exponentially.\n",
    "* One can consider using multiple computing processors, each storing part of the state. Communication between processors is required to simulate certain quantum gates. \n",
    "* When $2^p$ processors are used, each stores $2^m$ complex amplitudes ($m=n-p$)."
   ]
  },
  {
   "cell_type": "markdown",
   "metadata": {
    "slideshow": {
     "slide_type": "fragment"
    }
   },
   "source": [
    "<img src=\"iqs-distributed-state.png\" width=\"800\">"
   ]
  },
  {
   "cell_type": "markdown",
   "metadata": {
    "slideshow": {
     "slide_type": "subslide"
    }
   },
   "source": [
    "Implementation of 1-qubit gates.\n",
    "\n",
    "* If gates act on qubit $k$, the pair of amplitudes involved in the transformation are distance $2^k$ apart.\n",
    "* Internal loop updates $2^k$ of these amplitude pairs.\n",
    "* The outer loop has a stride of $2\\times2^k$, corresponding to all amplitudes involved in the inner loop."
   ]
  },
  {
   "cell_type": "markdown",
   "metadata": {
    "slideshow": {
     "slide_type": "fragment"
    }
   },
   "source": [
    "<table><tr>\n",
    "<td> <img src=\"iqs-1-qubit-gate-pseudocode.png\" height=\"800\"/> </td>\n",
    "</tr></table>"
   ]
  },
  {
   "cell_type": "markdown",
   "metadata": {
    "slideshow": {
     "slide_type": "fragment"
    }
   },
   "source": [
    "2-qubit gates are more complicated since one has to consider multiple possibility for the communication pattern."
   ]
  },
  {
   "cell_type": "markdown",
   "metadata": {
    "slideshow": {
     "slide_type": "subslide"
    }
   },
   "source": [
    "IQS provides methods to:\n",
    "\n",
    "* Initialize the qubit register in any computational basis state or in a random state.\n",
    "* Implement arbitrary 1-qubit gates. In addition, the most commonly-used gates are explicitly provided: Hadamard, Paulis, rotations, ...\n",
    "* Implement any controlled 1-qubit gate (involving a total of 2 qubits). In addition, the most commonly-used gates are explicitly provided: Controlled-X, Controlled-Z, ...\n",
    "* Get the probability of measuring any qubit in the computational basis.\n",
    "* Get the expectation value of any product of Pauli operators.\n",
    "\n",
    "Advanced methods include:\n",
    "\n",
    "* Inclusion of noise via quantum channels, for example to simulate decoherence and dissipation.\n",
    "* Parallel simulation of many states, possibly with individual modifications to the quantum circuit.\n",
    "* Extra features to facilitate simulation of QAOA circuits."
   ]
  },
  {
   "cell_type": "markdown",
   "metadata": {
    "hidePrompt": true,
    "slideshow": {
     "slide_type": "slide"
    }
   },
   "source": [
    "# Quantum Approximate Optimization Algorithm (QAOA)\n",
    "----\n",
    "\n",
    "* Discussion of a specific combinatorial problem: MaxCut.\n",
    "* Practical introduction to Intel Quantum Simulator: simulating QAOA circuits.\n",
    "* Visualize effect of noise."
   ]
  },
  {
   "cell_type": "markdown",
   "metadata": {
    "slideshow": {
     "slide_type": "subslide"
    }
   },
   "source": [
    "### Import required libraries\n",
    "\n",
    "* Intel Quantum Simulator [binding of the C++ implementation]\n",
    "* numpy [standard numerical library for Python]\n",
    "* networkx [to create and visualize graphs]\n",
    "* matplotlib [to visualize the results]\n",
    "* scipy [to optimize the QAOA circuits]\n",
    "* pandas [to store results in dataframes]"
   ]
  },
  {
   "cell_type": "code",
   "execution_count": 1,
   "metadata": {
    "slideshow": {
     "slide_type": "fragment"
    }
   },
   "outputs": [],
   "source": [
    "import sys\n",
    "import intelqs_py as iqs\n",
    "import numpy as np\n",
    "import networkx as nx\n",
    "import matplotlib.pyplot as plt\n",
    "from scipy.optimize import minimize\n",
    "import pandas as pd\n",
    "\n",
    "file_df1 = 'study_TYPE-channel_qQUBITS.pkl'\n",
    "\n",
    "# Initialize MPI environment (only once)\n",
    "is_mpi_env_initialized = False\n",
    "try: myrank\n",
    "except NameError:\n",
    "    iqs.EnvInit()\n",
    "    myrank = iqs.MPIEnvironment.GetRank()\n",
    "    is_mpi_env_initialized = True"
   ]
  },
  {
   "cell_type": "markdown",
   "metadata": {
    "slideshow": {
     "slide_type": "slide"
    }
   },
   "source": [
    "# MaxCut problem\n",
    "----\n",
    "\n",
    "* It is a graph bipartition problem.\n",
    "* It is a NP-complete problem.\n",
    "* It has already been mentioned in a few talks in this workshop.\n",
    "* Examples: ring and random graphs (Erdos, k-regular graphs, NM, ...).\n",
    "\n",
    "<img src=\"Max-cut.svg.png\" height=\"800\"/>\n",
    "\n",
    "How to compute the value of the cut?  \n",
    "Consider that we label the colors as \"+1\" and \"-1\".\n",
    "In analogy with spins, let us use the variable $s_i$ for the color of the $i$-th node.\n",
    "Each term of the function returning the cut value can be written as:\n",
    "$$f(s_i,s_j) = 1-\\delta_{s_i, \\, s_j} = \\frac{1 - s_i \\, s_j}{2}$$"
   ]
  },
  {
   "cell_type": "markdown",
   "metadata": {
    "slideshow": {
     "slide_type": "subslide"
    }
   },
   "source": [
    "### Generate the Max-Cut instance (random 3-regular graph)"
   ]
  },
  {
   "cell_type": "code",
   "execution_count": 11,
   "metadata": {
    "hideCode": false,
    "slideshow": {
     "slide_type": "fragment"
    }
   },
   "outputs": [
    {
     "name": "stdout",
     "output_type": "stream",
     "text": [
      "There are 10 nodes:  [0, 1, 2, 4, 7, 6, 8, 5, 9, 3]\n",
      "There are 15 edges:  [(0, 1), (0, 6), (0, 2), (1, 3), (1, 9), (2, 4), (2, 7), (4, 6), (4, 5), (7, 5), (7, 8), (6, 8), (8, 9), (5, 3), (9, 3)]\n",
      "\n",
      "The max value of the cut is : 13\n"
     ]
    },
    {
     "data": {
      "image/png": "[encoded data removed]",
      "text/plain": [
       "<Figure size 432x288 with 1 Axes>"
      ]
     },
     "metadata": {},
     "output_type": "display_data"
    }
   ],
   "source": [
    "# Create a 3-regular graph:\n",
    "num_qubits = 10\n",
    "G = nx.random_regular_graph(3, num_qubits, seed=1234)\n",
    "adjacency_matrix = nx.to_numpy_array(G, dtype=int)\n",
    "\n",
    "# Allocate memory for the diagonal of the objective function.\n",
    "cut_values = iqs.QubitRegister(num_qubits, 'base', 0, 0)\n",
    "max_cut_value = iqs.InitializeVectorAsMaxCutCostFunction(cut_values, adjacency_matrix.flatten().tolist())\n",
    "\n",
    "print('There are', G.number_of_nodes(), 'nodes: ', list(G.nodes))\n",
    "print('There are', G.number_of_edges(), 'edges: ', list(G.edges))\n",
    "print(\"\\nThe max value of the cut is : {0:2d}\".format(max_cut_value), flush=True)\n",
    "\n",
    "nx.draw(G, node_color='yellow', with_labels=True)\n",
    "plt.show()"
   ]
  },
  {
   "cell_type": "markdown",
   "metadata": {
    "hidePrompt": true,
    "slideshow": {
     "slide_type": "slide"
    }
   },
   "source": [
    "# Simulation of QAOA circuits\n",
    "----\n",
    "\n",
    "The Quantum Approximate Optimization Algorithm (QAOA) is a variational algorithm to solve combinatorial problems.\n",
    "Here we provide the syntax to quickly define and simulate QAOA circuits."
   ]
  },
  {
   "cell_type": "markdown",
   "metadata": {
    "slideshow": {
     "slide_type": "slide"
    }
   },
   "source": [
    "### Define the QAOA circuit\n",
    "----\n",
    "\n",
    "- prepare the reference state $|+++...+\\rangle$\n",
    "- iterate throught the QAOA steps\n",
    "- each step is composed by $\\exp(-i C \\gamma)$, with $C$ being the cost function, and the transverse field mixing\n",
    "\n",
    "----\n",
    "**NOTE:** Discuss ***emulation vs simulation*** and how the global operation defined by the cost function can be implemented in either case."
   ]
  },
  {
   "cell_type": "code",
   "execution_count": 66,
   "metadata": {
    "hideCode": false,
    "slideshow": {
     "slide_type": "fragment"
    }
   },
   "outputs": [],
   "source": [
    "def cut_value_from_qaoa_circuit(parameters, state=psi, cut_values=cut_values, noise_chi_matrix=None, ensemble_size=1):\n",
    "    for e\n",
    "    num_qubits=state.NumQubits()\n",
    "    state.Initialize(\"++++\",0)\n",
    "    assert len(parameters)%2==0\n",
    "    qaoa_depth = int(len(parameters)/2)\n",
    "    for p in range(qaoa_depth):\n",
    "        gamma = parameters[2*p]\n",
    "        beta = parameters[2*p+1]\n",
    "        # exp(-i gamma C)\n",
    "        iqs.ImplementQaoaLayerBasedOnCostFunction(state, cut_values, gamma)\n",
    "        # exp(-i beta  B)\n",
    "        for qubit in range(num_qubits):\n",
    "            state.ApplyRotationX(qubit, beta)\n",
    "    # At this point |psi> corresponds to the state at the end of the QAOA circuit.\n",
    "    cut_average = iqs.GetExpectationValueFromCostFunction(state,cut_values)\n",
    "    return cut_average;"
   ]
  },
  {
   "cell_type": "markdown",
   "metadata": {
    "slideshow": {
     "slide_type": "subslide"
    }
   },
   "source": [
    "### Run circuit with random parameters and visualize results"
   ]
  },
  {
   "cell_type": "code",
   "execution_count": 92,
   "metadata": {
    "hideCode": true,
    "slideshow": {
     "slide_type": "fragment"
    }
   },
   "outputs": [
    {
     "name": "stdout",
     "output_type": "stream",
     "text": [
      "Random choice of QAOA parameters.\n",
      "QAOA circuit with random parameter values (p=3).\n",
      "Average cut value = 6.300353004976739\n"
     ]
    },
    {
     "data": {
      "image/png": "[encoded data removed]",
      "text/plain": [
       "<Figure size 432x288 with 1 Axes>"
      ]
     },
     "metadata": {
      "needs_background": "light"
     },
     "output_type": "display_data"
    },
    {
     "name": "stdout",
     "output_type": "stream",
     "text": [
      "The probabilities of the cut values are:\n",
      " cut =     0      1      2      3      4      5      6      7      8      9     10     11     12     13\n",
      "prob =  0.0723 0.0000 0.0000 0.0849 0.0157 0.1161 0.1624 0.2449 0.1446 0.0780 0.0419 0.0356 0.0030 0.0007\n"
     ]
    }
   ],
   "source": [
    "# Define quantum state\n",
    "psi = iqs.QubitRegister(num_qubits, \"++++\", 0, 0)\n",
    "# Reference state\n",
    "histo_ref = iqs.GetHistogramFromCostFunction(psi, cut_values, max_cut_value)\n",
    "\n",
    "# Choose parameters at random, each in [0, pi)\n",
    "np.random.seed(7777)\n",
    "qaoa_depth = 3\n",
    "gamma = np.random.random_sample((2*qaoa_depth,))*np.pi\n",
    "print(\"Random choice of QAOA parameters.\")\n",
    "\n",
    "# Compute cut value (expectation value at the end of QAOA circuit)\n",
    "cut = cut_value_from_qaoa_circuit(gamma, state=psi, cut_values=cut_values)\n",
    "print('QAOA circuit with random parameter values (p={}).\\nAverage cut value = {}'.format(qaoa_depth,cut))\n",
    "histo_rand = iqs.GetHistogramFromCostFunction(psi, cut_values, max_cut_value)\n",
    "\n",
    "# Plot histogram.\n",
    "x = np.arange(max_cut_value+1)\n",
    "fig = plt.bar(x, histo_rand, align='center', alpha=0.5, label='random')\n",
    "if False:\n",
    "    fig = plt.bar(x, histo_ref, align='center', alpha=0.5, label='|++++>')\n",
    "plt.xlabel('cut value', fontsize=14)\n",
    "plt.ylabel('probability of cut', fontsize=14)\n",
    "plt.legend(loc='upper left', fontsize=14)\n",
    "plt.show()\n",
    "\n",
    "print(\"The probabilities of the cut values are:\")\n",
    "print(\" cut = \", \"   \".join([\"{0:4d}\".format(c) for c in range(max_cut_value+1)]))\n",
    "print(\"prob = \", \" \".join([\"{0:1.4f}\".format(p) for p in histo_rand]))"
   ]
  },
  {
   "cell_type": "markdown",
   "metadata": {
    "slideshow": {
     "slide_type": "slide"
    }
   },
   "source": [
    "### Optimization of QAOA circuit\n",
    "\n",
    "We have already defined a function that, given the parameters' values, returns the expectation value of the cut function.\n",
    "\n",
    "We can use standard optimization tools from SciPy to improve the QAOA parameters."
   ]
  },
  {
   "cell_type": "code",
   "execution_count": 72,
   "metadata": {
    "slideshow": {
     "slide_type": "fragment"
    }
   },
   "outputs": [
    {
     "name": "stdout",
     "output_type": "stream",
     "text": [
      "     fun: -11.497191318593153\n",
      "   maxcv: 0.0\n",
      " message: 'Optimization terminated successfully.'\n",
      "    nfev: 661\n",
      "  status: 1\n",
      " success: True\n",
      "       x: array([3.54120196, 1.93513351, 1.11665729, 3.85188649, 2.85608135,\n",
      "       1.33300078])\n"
     ]
    }
   ],
   "source": [
    "def cost_function(parameters):\n",
    "    return -cut_value_from_qaoa_circuit(parameters)\n",
    "\n",
    "res = minimize(cost_function, gamma, method='cobyla')\n",
    "gamma_opt = res.x\n",
    "print(res)"
   ]
  },
  {
   "cell_type": "code",
   "execution_count": 85,
   "metadata": {
    "slideshow": {
     "slide_type": "fragment"
    }
   },
   "outputs": [
    {
     "name": "stdout",
     "output_type": "stream",
     "text": [
      "Average cut value =  -11.497191318593153\n"
     ]
    },
    {
     "data": {
      "image/png": "[encoded data removed]",
      "text/plain": [
       "<Figure size 432x288 with 1 Axes>"
      ]
     },
     "metadata": {
      "needs_background": "light"
     },
     "output_type": "display_data"
    }
   ],
   "source": [
    "cut = cut_value_from_qaoa_circuit(gamma_opt, psi)\n",
    "print(\"Average cut value = \", -cut)\n",
    "histo_opt = iqs.GetHistogramFromCostFunction(psi, cut_values, max_cut_value)\n",
    "\n",
    "# Plot histogram.\n",
    "x = np.arange(max_cut_value+1)\n",
    "fig = plt.bar(x, histo_rand, align='center', alpha=0.5, label='random')\n",
    "fig = plt.bar(x, histo_opt, align='center', alpha=0.5, color='red', label='optimized')\n",
    "plt.xlabel('cut value', fontsize=14)\n",
    "plt.ylabel('probability of cut', fontsize=14)\n",
    "plt.legend(loc='upper left', fontsize=14)\n",
    "plt.show()"
   ]
  },
  {
   "cell_type": "markdown",
   "metadata": {
    "hidePrompt": true,
    "slideshow": {
     "slide_type": "slide"
    }
   },
   "source": [
    "# Simulation with noise\n",
    "----\n",
    "\n",
    "## Simulate repetead applications of the same channel\n",
    "\n",
    "For all channels, the initial state is $|-\\rangle_3 |+\\rangle_2 |1\\rangle_1 |0\\rangle_0$, with qubits ordered from right to left.\n",
    "\n",
    "### Depolarizing channel\n",
    "\n",
    "The input state $\\rho$ is transformed to the output state $\\rho^\\prime$ according to: \n",
    "$$\\rho^\\prime = (1-p) \\rho + \\frac{p}{3} ( X.\\rho.X + Y.\\rho.Y + Z.\\rho.Z )$$\n",
    "\n",
    "Interpretation: nothing happens with probability $(1-p)$, otherwise each of the Pauli errors happens with equal probability $p/3$. Convergence towards the maximally mixed state happens with (single qubit) rate $\\lambda=4 \\frac{p}{3}$.\n",
    "\n",
    "\n",
    "### Dephasing channel\n",
    "\n",
    "The input state $\\rho$ is transformed to the output state $\\rho^\\prime$ according to: \n",
    "$$\\rho^\\prime = (1-p) \\rho + p Z.\\rho.Z$$\n",
    "\n",
    "Interpretation: nothing happens with probability $(1-p)$, otherwise the Pauli Z error happens with probability $p$.\n",
    "\n",
    "### Amplitude-damping channel\n",
    "\n",
    "The Kraus operators are $M_0=\\begin{bmatrix} 1 & 0 \\\\ 0 & \\sqrt{1-p}\\end{bmatrix}$\n",
    "and $M_1=\\begin{bmatrix} 0 & \\sqrt{p} \\\\ 0 & 0 \\end{bmatrix}$.\n",
    "\n",
    "The decomposition in Pauli matrices leads to:\n",
    "$M_0 = \\frac{1+\\sqrt{1-p}}{2} I + \\frac{1-\\sqrt{1-p}}{2} Z$ and \n",
    "$M_1 = \\frac{\\sqrt{p}}{2} (X  + i Y)$.\n",
    "\n",
    "The result is:\n",
    "$$\\rho^\\prime = M_0 \\rho M_0^\\dagger + M_1 \\rho M_1^\\dagger = \\sum_{i,j} \\chi_{i,j} \\sigma_i \\rho \\sigma_j$$\n",
    "with\n",
    "$$\\chi = \\frac{1}{4} \\begin{bmatrix} (1+\\sqrt{1-p})^2 & 0 & 0 & p \\\\\n",
    "                                    0 & p^2 & -i p^2 & 0 \\\\\n",
    "                                    0 & i p^2 & p^2 & 0 \\\\\n",
    "                                    p & 0 & 0 & (1-\\sqrt{1-p})^2 \\end{bmatrix}$$"
   ]
  },
  {
   "cell_type": "code",
   "execution_count": 7,
   "metadata": {
    "slideshow": {
     "slide_type": "subslide"
    }
   },
   "outputs": [
    {
     "name": "stdout",
     "output_type": "stream",
     "text": [
      "-- state 0 of the ensemble\n",
      "-- state 100 of the ensemble\n",
      "-- state 200 of the ensemble\n",
      "-- state 300 of the ensemble\n",
      "-- state 400 of the ensemble\n",
      "data saved in file  study_depolarizing-channel_q4.pkl\n"
     ]
    }
   ],
   "source": [
    "channel_type = 'depolarizing'\n",
    "#channel_type = 'dephasing'\n",
    "#channel_type = 'amplitude-damping'\n",
    "\n",
    "# Prapare the initial state\n",
    "num_qubits = 4\n",
    "index = 0*1 + 1*2 + 0*4 + 1*8\n",
    "psi = iqs.QubitRegister(num_qubits, 'base', index, 0) # |psi> = |1010> = |1>_3 .|0>_2 .|1>_1 .|0>_0\n",
    "psi.ApplyHadamard(2)                                  # |psi> = |1+10>\n",
    "psi.ApplyHadamard(3)                                  # |psi> = |-+10>\n",
    "\n",
    "# Associate a random-number-generator to the state\n",
    "rng = iqs.RandomNumberGenerator();\n",
    "rng_seed = 7777;\n",
    "rng.SetSeedStreamPtrs( rng_seed );\n",
    "\n",
    "# Define the chi-matrix\n",
    "p=0.01\n",
    "chi = iqs.CM4x4()\n",
    "if channel_type == 'depolarizing':\n",
    "    chi[0,0] = 1-p\n",
    "    chi[1,1] = p/3\n",
    "    chi[2,2] = p/3\n",
    "    chi[3,3] = p/3\n",
    "elif channel_type == 'dephasing':\n",
    "    chi[0,0] = 1-p\n",
    "    chi[3,3] = p\n",
    "elif channel_type == 'amplitude-damping':\n",
    "    chi[0,0] = (1+np.sqrt(1-p))**2 /4\n",
    "    chi[0,3] = p/4\n",
    "    chi[3,0] = p/4\n",
    "    chi[3,3] = (1-np.sqrt(1-p))**2 /4\n",
    "    chi[1,1] = p**2 /4\n",
    "    chi[1,2] = -1j * p**2 /4\n",
    "    chi[2,1] = +1j * p**2 /4\n",
    "    chi[2,2] = p**2 /4\n",
    "else:\n",
    "    print('ERROR: unknown noise channel')\n",
    "chi.SolveEigenSystem()\n",
    "chi.Print(True)\n",
    "\n",
    "# parameter of the evolution\n",
    "num_ensemble_states = 500\n",
    "num_time_steps = 200\n",
    "collective_list = []\n",
    "for s in range(num_ensemble_states):\n",
    "    if s%100==0:\n",
    "        print(\"-- state\", s, \"of the ensemble\")\n",
    "    psi_s = iqs.QubitRegister(psi)\n",
    "    psi_s.SetRngPtr(rng);\n",
    "    for t in range(0,num_time_steps):\n",
    "        sq_overlap = np.absolute(psi_s.ComputeOverlap(psi))**2 # the overlap is computed as if at the begin of time step t\n",
    "        assert sq_overlap<=1\n",
    "        for q in range(num_qubits):\n",
    "            psi_s.ApplyChannel(q, chi)\n",
    "        collective_list.append([s, t, sq_overlap])\n",
    "df = pd.DataFrame(collective_list, columns =['s', 't', 'sq_overlap'])\n",
    "filename = file_df1.replace('TYPE', channel_type)\n",
    "filename = filename.replace('QUBITS', str(num_qubits))\n",
    "df.to_pickle(filename)\n",
    "print('data saved in file ', filename)"
   ]
  },
  {
   "cell_type": "markdown",
   "metadata": {
    "slideshow": {
     "slide_type": "subslide"
    }
   },
   "source": [
    "### Plot the results (one type of channel at a time)\n",
    "\n",
    "Depolarizing:  \n",
    "$|0\\rangle\\langle 0| \\rightarrow I$  \n",
    "$|1\\rangle\\langle 1| \\rightarrow I$\n",
    "\n",
    "Dephasing:  \n",
    "$|0\\rangle\\langle 0| \\rightarrow |0\\rangle\\langle 0|$  \n",
    "$|1\\rangle\\langle 1| \\rightarrow |1\\rangle\\langle 1|$\n",
    "\n",
    "Amplitude-damping:  \n",
    "$|0\\rangle\\langle 0| \\rightarrow |0\\rangle\\langle 0|$  \n",
    "$|1\\rangle\\langle 1| \\rightarrow |0\\rangle\\langle 0|$"
   ]
  },
  {
   "cell_type": "code",
   "execution_count": 11,
   "metadata": {},
   "outputs": [
    {
     "name": "stdout",
     "output_type": "stream",
     "text": [
      "\n",
      "Initial state |-+10>.\n",
      "Plot the squared overlap |<-+10|psi(t)>|^2\n"
     ]
    },
    {
     "data": {
      "image/png": "[encoded data removed]",
      "text/plain": [
       "<Figure size 1080x432 with 2 Axes>"
      ]
     },
     "metadata": {
      "needs_background": "light"
     },
     "output_type": "display_data"
    },
    {
     "name": "stdout",
     "output_type": "stream",
     "text": [
      "Figure saved as file  study_depolarizing-channel_q4_t200_s500.png\n"
     ]
    }
   ],
   "source": [
    "channel_type = 'depolarizing'\n",
    "num_ensemble_states = 500\n",
    "num_qubits = 4\n",
    "filename = file_df1.replace('TYPE', channel_type)\n",
    "filename = filename.replace('QUBITS', str(num_qubits))\n",
    "df = pd.read_pickle(filename)\n",
    "#print(df.head)\n",
    "\n",
    "fig, axs = plt.subplots(1,2, sharex=False, figsize=(15, 6))\n",
    "fig.subplots_adjust(wspace=0.3)\n",
    "axs[0].tick_params(axis='both', labelsize=14)\n",
    "axs[1].tick_params(axis='both', labelsize=14)\n",
    "\n",
    "dfs = df.groupby(['t'])['sq_overlap'].mean().reset_index()\n",
    "axs[0].plot(dfs.t, dfs.sq_overlap, linewidth=3, label=channel_type)\n",
    "if channel_type == 'depolarizing':\n",
    "    axs[0].plot(dfs.t, [1/2**num_qubits]*len(dfs.t), 'r--')\n",
    "elif channel_type == 'dephasing':\n",
    "    axs[0].plot(dfs.t, [1/4]*len(dfs.t), 'r--')\n",
    "elif channel_type == 'amplitude-damping':\n",
    "    axs[0].plot(dfs.t, [0]*len(dfs.t), 'r--')\n",
    "\n",
    "# Fix time step, compute the convergence when average is over more ensemble states.\n",
    "for t in [2, 10, 20, 50, 100]:\n",
    "    # If we do not take a copy, pandas would complain that:\n",
    "    # 'A value is trying to be set on a copy of a slice from a DataFrame.'\n",
    "    dft = df.loc[(df['t'] == t)].copy()\n",
    "    a = dft['sq_overlap'].to_numpy()\n",
    "    a = np.cumsum(a)\n",
    "    b = np.ones(num_ensemble_states)\n",
    "    b = np.cumsum(b)\n",
    "    c = np.divide(a, b)\n",
    "    dft['avg_sq_overlap'] = c\n",
    "    axs[1].plot(dft.s, dft.avg_sq_overlap, linewidth=3, label='time={}'.format(t))\n",
    "\n",
    "axs[0].set_ylabel('squared overlap', fontsize=16)\n",
    "axs[0].set_xlabel('time steps', fontsize=16)\n",
    "axs[0].grid()\n",
    "axs[0].legend(loc='upper right', fontsize=16)\n",
    "axs[1].set_xlabel('num states in the average', fontsize=16)\n",
    "axs[1].set_xlabel('M', fontsize=16)\n",
    "axs[1].set_ylabel('squared overlap', fontsize=16)\n",
    "axs[1].legend(loc='lower right', fontsize=16)\n",
    "axs[1].grid()\n",
    "\n",
    "filename = 'study_{}-channel_q{}_t{}_s{}.png'.format(\n",
    "    channel_type, num_qubits, num_time_steps, num_ensemble_states)\n",
    "fig.savefig(filename)\n",
    "print('\\nInitial state |-+10>.\\nPlot the squared overlap |<-+10|psi(t)>|^2')\n",
    "plt.show()\n",
    "print('Figure saved as file ', filename)"
   ]
  },
  {
   "cell_type": "markdown",
   "metadata": {
    "slideshow": {
     "slide_type": "slide"
    }
   },
   "source": [
    "----\n",
    "## END\n",
    "----"
   ]
  },
  {
   "cell_type": "code",
   "execution_count": 24,
   "metadata": {
    "slideshow": {
     "slide_type": "slide"
    }
   },
   "outputs": [],
   "source": [
    " # Finalize MPI environment\n",
    "if is_mpi_env_initialized:\n",
    "    iqs.EnvFinalize()\n",
    "    is_mpi_env_initialized = False"
   ]
  },
  {
   "cell_type": "code",
   "execution_count": null,
   "metadata": {},
   "outputs": [],
   "source": []
  }
 ],
 "metadata": {
  "celltoolbar": "Slideshow",
  "kernelspec": {
   "display_name": "Python 3",
   "language": "python",
   "name": "python3"
  },
  "language_info": {
   "codemirror_mode": {
    "name": "ipython",
    "version": 3
   },
   "file_extension": ".py",
   "mimetype": "text/x-python",
   "name": "python",
   "nbconvert_exporter": "python",
   "pygments_lexer": "ipython3",
   "version": "3.8.5"
  }
 },
 "nbformat": 4,
 "nbformat_minor": 2
}
